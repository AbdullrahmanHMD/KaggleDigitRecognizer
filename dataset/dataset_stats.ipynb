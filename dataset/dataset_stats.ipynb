{
 "cells": [
  {
   "cell_type": "markdown",
   "id": "2e3a6b97-03f1-4ea7-99f1-80eba3347d48",
   "metadata": {},
   "source": [
    "# Dataset stats\n",
    "\n",
    "This notebook calculates the mean and standard deviation of the a given dataset.\n",
    "\n",
    "### Notebook Contents:\n",
    "1. Imports.\n",
    "2. Loading the dataset.\n",
    "3. Calculating the mean and standard deviation.\n",
    "4. Saving the mean and standard deviation into a .yaml file"
   ]
  },
  {
   "cell_type": "markdown",
   "id": "314a6217-2e91-4b70-a961-c0a194001bb9",
   "metadata": {},
   "source": [
    "## 1. Imports:"
   ]
  },
  {
   "cell_type": "code",
   "execution_count": 2,
   "id": "64412815-bd31-47b2-832e-3504c96d8900",
   "metadata": {},
   "outputs": [],
   "source": [
    "# PyTorch imports:\n",
    "import torch\n",
    "from torchvision.datasets import ImageFolder\n",
    "import torchvision.transforms as T\n",
    "\n",
    "# Dataset imports:\n",
    "from dataset import DigitDataset\n",
    "\n",
    "# Other imports:\n",
    "import os\n",
    "import yaml\n",
    "from tqdm import tqdm\n",
    "from pathlib import Path\n"
   ]
  },
  {
   "cell_type": "markdown",
   "id": "9a2cc5f8-6139-4cd0-afd4-782aa22a0df4",
   "metadata": {},
   "source": [
    "## 2. Loading the dataset:"
   ]
  },
  {
   "cell_type": "markdown",
   "id": "58c8c2d1-9db9-4669-ad8e-f0fa946fc6a3",
   "metadata": {},
   "source": [
    "#### a) Getting the path of the dataset:"
   ]
  },
  {
   "cell_type": "code",
   "execution_count": 5,
   "id": "b3c17091-b0d6-427d-af07-ed76f90f2df4",
   "metadata": {},
   "outputs": [
    {
     "name": "stdout",
     "output_type": "stream",
     "text": [
      "Dataset path: D:\\Datasets\\Kaggle\\DigitRecognizer\\train.csv\n"
     ]
    }
   ],
   "source": [
    "# Getting the path of the .yaml file that contains the path to the dataset:\n",
    "yaml_file_path = Path().resolve().parent / \"Dataset\" / \"dataset_path.yaml\"\n",
    "\n",
    "# Getting the dataset path from the .yaml file:\n",
    "with open(yaml_file_path, 'r') as file:\n",
    "    dataset_path = yaml.safe_load(file)['train']\n",
    "\n",
    "print(f'Dataset path: {dataset_path}')\n"
   ]
  },
  {
   "cell_type": "markdown",
   "id": "56a93a36-e5ff-425c-a0e8-015b4bb127d1",
   "metadata": {},
   "source": [
    "#### b) Creating the a dataset obejct"
   ]
  },
  {
   "cell_type": "code",
   "execution_count": 9,
   "id": "cb2befb1-5a60-421f-bd97-34bef445ea62",
   "metadata": {},
   "outputs": [
    {
     "data": {
      "text/plain": [
       "<dataset.DigitDataset at 0x1c05d0e5280>"
      ]
     },
     "execution_count": 9,
     "metadata": {},
     "output_type": "execute_result"
    }
   ],
   "source": [
    "dataset = DigitDataset(transforms=[T.ToTensor()])\n",
    "dataset\n"
   ]
  },
  {
   "cell_type": "markdown",
   "id": "69cda9bb-4850-4361-b9a1-fabf592bb002",
   "metadata": {},
   "source": [
    "## 3. Calculating the mean and standard deviation."
   ]
  },
  {
   "cell_type": "markdown",
   "id": "79f7852e-93c0-4d4e-b040-55eda4b06835",
   "metadata": {},
   "source": [
    "The mean is calculated as follow:\n",
    "$$Mean \\space (\\mu) = \\frac{\\sum_{i=1}^{n} x_i}{n}$$\n",
    "\n",
    "And the variance is calculated as follows:\n",
    "$$Varience \\space (\\sigma^2) = \\frac{1}{n} \\sum_{i=1}^{n} x_i^2 - \\left(\\frac{\\sum_{i=1}^{n} x_i}{n}\\right)^2 = \\frac{1}{n} \\left(\\sum_{i=1}^{n} x_i^2\\right) - \\mu^2$$\n",
    "\n",
    "\n",
    "Finally, the standard deviation is the square root of the varience:\n",
    "\n",
    "$$Standard Deviation \\space (\\sigma) = \\sqrt{\\sigma^2} = \\sqrt{\\frac{1}{n} \\sum_{i=1}^{n} x_i^2 - \\left(\\frac{\\sum_{i=1}^{n} x_i}{n}\\right)^2}$$"
   ]
  },
  {
   "cell_type": "code",
   "execution_count": 10,
   "id": "17e8a378-5713-4fe1-beb3-93b7bfa18570",
   "metadata": {},
   "outputs": [
    {
     "name": "stderr",
     "output_type": "stream",
     "text": [
      "100%|██████████| 42000/42000 [00:04<00:00, 10191.70it/s]\n"
     ]
    }
   ],
   "source": [
    "pixel_sum = torch.tensor([0.0, 0.0, 0.0])\n",
    "pixel_sum_sq = torch.tensor([0.0, 0.0, 0.0])\n",
    "\n",
    "pixel_count = 0\n",
    "\n",
    "for im, _ in tqdm(dataset):\n",
    "    # Calculating the number of pixels this way since the images\n",
    "    # have different sizes.\n",
    "    pixel_count += im.shape[1] * im.shape[2]\n",
    "\n",
    "    # Summing the pixels of each channel and accumulating them:\n",
    "    pixel_sum += im.sum(axis=(1, 2))\n",
    "\n",
    "    # Accumulating the square of the summation of each channel:\n",
    "    pixel_sum_sq += (im**2).sum(axis=(1, 2))\n"
   ]
  },
  {
   "cell_type": "code",
   "execution_count": 11,
   "id": "03abc353-7c24-4a87-9531-5e577ee51ca5",
   "metadata": {},
   "outputs": [
    {
     "name": "stdout",
     "output_type": "stream",
     "text": [
      "Mean: [0.1310141682624817, 0.1310141682624817, 0.1310141682624817]\n",
      "Standard Deviation: [0.30854013562202454, 0.30854013562202454, 0.30854013562202454]\n"
     ]
    }
   ],
   "source": [
    "mean = pixel_sum / pixel_count\n",
    "varience = pixel_sum_sq - pixel_sum**2 / pixel_count\n",
    "varience = (pixel_sum_sq / pixel_count) - mean**2\n",
    "std = torch.sqrt(varience)\n",
    "\n",
    "print(f'Mean: {mean.tolist()}\\nStandard Deviation: {std.tolist()}')\n"
   ]
  },
  {
   "cell_type": "markdown",
   "id": "f20340a9-3fa1-464f-ae33-72db4700702f",
   "metadata": {},
   "source": [
    "## 4. Saving the mean and standard deviation into a .yaml file:"
   ]
  },
  {
   "cell_type": "code",
   "execution_count": 13,
   "id": "44629aeb-4993-4aa8-92da-9d829beedcd1",
   "metadata": {},
   "outputs": [],
   "source": [
    "# Creating a dict that holds the mean and standard deviation:\n",
    "stats_dict = {'mean' : mean.tolist(), 'std' : std.tolist()}\n",
    "\n",
    "# Saving the stats_dict into a .yaml file:\n",
    "file_path = Path().resolve() / \"dataset_stats.yaml\"\n",
    "\n",
    "with open(file_path, 'w') as file:\n",
    "    yaml.dump(stats_dict, file)\n"
   ]
  }
 ],
 "metadata": {
  "kernelspec": {
   "display_name": "pc_transformer",
   "language": "python",
   "name": "pc_transformer"
  },
  "language_info": {
   "codemirror_mode": {
    "name": "ipython",
    "version": 3
   },
   "file_extension": ".py",
   "mimetype": "text/x-python",
   "name": "python",
   "nbconvert_exporter": "python",
   "pygments_lexer": "ipython3",
   "version": "3.9.7"
  }
 },
 "nbformat": 4,
 "nbformat_minor": 5
}
